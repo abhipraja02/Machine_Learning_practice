{
 "cells": [
  {
   "cell_type": "code",
   "execution_count": 3,
   "metadata": {},
   "outputs": [],
   "source": [
    "import numpy as np\n",
    "import pandas as pd\n",
    "import matplotlib.pyplot as pl"
   ]
  },
  {
   "cell_type": "code",
   "execution_count": 4,
   "metadata": {},
   "outputs": [],
   "source": [
    "train=pd.read_csv('D:/abhipraja/codes/dataset/titanic/train.csv')\n",
    "test=pd.read_csv('D:/abhipraja/codes/dataset/titanic/test.csv')"
   ]
  },
  {
   "cell_type": "code",
   "execution_count": 5,
   "metadata": {},
   "outputs": [
    {
     "name": "stdout",
     "output_type": "stream",
     "text": [
      "<class 'pandas.core.frame.DataFrame'>\n",
      "RangeIndex: 891 entries, 0 to 890\n",
      "Data columns (total 12 columns):\n",
      " #   Column       Non-Null Count  Dtype  \n",
      "---  ------       --------------  -----  \n",
      " 0   PassengerId  891 non-null    int64  \n",
      " 1   Survived     891 non-null    int64  \n",
      " 2   Pclass       891 non-null    int64  \n",
      " 3   Name         891 non-null    object \n",
      " 4   Sex          891 non-null    object \n",
      " 5   Age          714 non-null    float64\n",
      " 6   SibSp        891 non-null    int64  \n",
      " 7   Parch        891 non-null    int64  \n",
      " 8   Ticket       891 non-null    object \n",
      " 9   Fare         891 non-null    float64\n",
      " 10  Cabin        204 non-null    object \n",
      " 11  Embarked     889 non-null    object \n",
      "dtypes: float64(2), int64(5), object(5)\n",
      "memory usage: 83.7+ KB\n",
      "<class 'pandas.core.frame.DataFrame'>\n",
      "RangeIndex: 418 entries, 0 to 417\n",
      "Data columns (total 11 columns):\n",
      " #   Column       Non-Null Count  Dtype  \n",
      "---  ------       --------------  -----  \n",
      " 0   PassengerId  418 non-null    int64  \n",
      " 1   Pclass       418 non-null    int64  \n",
      " 2   Name         418 non-null    object \n",
      " 3   Sex          418 non-null    object \n",
      " 4   Age          332 non-null    float64\n",
      " 5   SibSp        418 non-null    int64  \n",
      " 6   Parch        418 non-null    int64  \n",
      " 7   Ticket       418 non-null    object \n",
      " 8   Fare         417 non-null    float64\n",
      " 9   Cabin        91 non-null     object \n",
      " 10  Embarked     418 non-null    object \n",
      "dtypes: float64(2), int64(4), object(5)\n",
      "memory usage: 36.0+ KB\n"
     ]
    },
    {
     "data": {
      "text/plain": [
       "(None, None)"
      ]
     },
     "execution_count": 5,
     "metadata": {},
     "output_type": "execute_result"
    }
   ],
   "source": [
    "train.info(),test.info()"
   ]
  },
  {
   "cell_type": "code",
   "execution_count": 6,
   "metadata": {},
   "outputs": [],
   "source": [
    "ytrain=train['Survived']"
   ]
  },
  {
   "cell_type": "code",
   "execution_count": 7,
   "metadata": {},
   "outputs": [],
   "source": [
    "train.drop(labels='Survived',axis=1,inplace=True)"
   ]
  },
  {
   "cell_type": "code",
   "execution_count": 8,
   "metadata": {},
   "outputs": [
    {
     "data": {
      "text/plain": [
       "((891, 11), (418, 11))"
      ]
     },
     "execution_count": 8,
     "metadata": {},
     "output_type": "execute_result"
    }
   ],
   "source": [
    "train.shape,test.shape"
   ]
  },
  {
   "cell_type": "code",
   "execution_count": 9,
   "metadata": {},
   "outputs": [
    {
     "name": "stderr",
     "output_type": "stream",
     "text": [
      "C:\\Users\\abhipraja\\AppData\\Local\\Temp\\ipykernel_11328\\2294878807.py:1: FutureWarning: The frame.append method is deprecated and will be removed from pandas in a future version. Use pandas.concat instead.\n",
      "  trainTest=train.append(test)\n"
     ]
    }
   ],
   "source": [
    "trainTest=train.append(test)"
   ]
  },
  {
   "cell_type": "code",
   "execution_count": 11,
   "metadata": {},
   "outputs": [],
   "source": [
    "columnsToDrop=['Name','Age','SibSp','Ticket','Cabin','Parch','Embarked']\n",
    "trainTest.drop(labels=columnsToDrop,axis=1,inplace=True)"
   ]
  },
  {
   "cell_type": "code",
   "execution_count": 12,
   "metadata": {},
   "outputs": [],
   "source": [
    "trainTestDummies=pd.get_dummies(trainTest,columns=['Sex'])"
   ]
  },
  {
   "cell_type": "code",
   "execution_count": 13,
   "metadata": {},
   "outputs": [
    {
     "data": {
      "text/plain": [
       "(1309, 5)"
      ]
     },
     "execution_count": 13,
     "metadata": {},
     "output_type": "execute_result"
    }
   ],
   "source": [
    "trainTestDummies.shape"
   ]
  },
  {
   "cell_type": "code",
   "execution_count": 15,
   "metadata": {},
   "outputs": [],
   "source": [
    "xtrain=trainTestDummies.values[0:891]\n",
    "xtest=trainTestDummies.values[891:]"
   ]
  },
  {
   "cell_type": "code",
   "execution_count": 16,
   "metadata": {},
   "outputs": [
    {
     "data": {
      "text/plain": [
       "((891, 5), (418, 5))"
      ]
     },
     "execution_count": 16,
     "metadata": {},
     "output_type": "execute_result"
    }
   ],
   "source": [
    "xtrain.shape,xtest.shape"
   ]
  },
  {
   "cell_type": "code",
   "execution_count": 18,
   "metadata": {},
   "outputs": [],
   "source": [
    "from sklearn.preprocessing import MinMaxScaler\n",
    "scaler=MinMaxScaler()\n",
    "xtrainScale=scaler.fit_transform(xtrain)\n",
    "xtestScale=scaler.transform(xtest)"
   ]
  },
  {
   "cell_type": "code",
   "execution_count": 19,
   "metadata": {},
   "outputs": [],
   "source": [
    "from sklearn.model_selection import train_test_split\n",
    "xtrainSub,xvalidationSub,ytrainSub,yvalidationSub=train_test_split(xtrainScale,ytrain,random_state=0)"
   ]
  },
  {
   "cell_type": "code",
   "execution_count": 20,
   "metadata": {},
   "outputs": [],
   "source": [
    "from sklearn.ensemble import GradientBoostingClassifier\n",
    "from sklearn.metrics import classification_report,confusion_matrix,roc_curve,auc"
   ]
  },
  {
   "cell_type": "code",
   "execution_count": 21,
   "metadata": {},
   "outputs": [
    {
     "name": "stdout",
     "output_type": "stream",
     "text": [
      "learing rates: 0.05\n",
      "accuracy score(training):0.778\n",
      "accuracy score(validaton):0.798\n",
      "\n",
      "learing rates: 0.1\n",
      "accuracy score(training):0.804\n",
      "accuracy score(validaton):0.816\n",
      "\n",
      "learing rates: 0.25\n",
      "accuracy score(training):0.819\n",
      "accuracy score(validaton):0.798\n",
      "\n",
      "learing rates: 0.5\n",
      "accuracy score(training):0.838\n",
      "accuracy score(validaton):0.812\n",
      "\n",
      "learing rates: 0.75\n",
      "accuracy score(training):0.844\n",
      "accuracy score(validaton):0.821\n",
      "\n",
      "learing rates: 1\n",
      "accuracy score(training):0.852\n",
      "accuracy score(validaton):0.807\n",
      "\n"
     ]
    }
   ],
   "source": [
    "learningRates=[.05,.1,.25,.5,.75,1]\n",
    "for learningRate in learningRates:\n",
    "    gb=GradientBoostingClassifier(n_estimators=20,learning_rate=learningRate,max_features=2,max_depth=2,random_state=0)\n",
    "    gb.fit(xtrainSub,ytrainSub)\n",
    "    print('learing rates:',learningRate)\n",
    "    print('accuracy score(training):{0:.3f}'.format(gb.score(xtrainSub,ytrainSub)))\n",
    "    print('accuracy score(validaton):{0:.3f}'.format(gb.score(xvalidationSub,yvalidationSub)))\n",
    "    print()\n"
   ]
  },
  {
   "cell_type": "code",
   "execution_count": 22,
   "metadata": {},
   "outputs": [
    {
     "name": "stdout",
     "output_type": "stream",
     "text": [
      "confusion matrix:\n",
      "[[121  18]\n",
      " [ 24  60]]\n",
      "\n",
      "confusion report\n",
      "              precision    recall  f1-score   support\n",
      "\n",
      "           0       0.83      0.87      0.85       139\n",
      "           1       0.77      0.71      0.74        84\n",
      "\n",
      "    accuracy                           0.81       223\n",
      "   macro avg       0.80      0.79      0.80       223\n",
      "weighted avg       0.81      0.81      0.81       223\n",
      "\n"
     ]
    }
   ],
   "source": [
    "gb=GradientBoostingClassifier(n_estimators=20,learning_rate=.5,max_features=2,max_depth=2,random_state=0)\n",
    "gb.fit(xtrainSub,ytrainSub)\n",
    "predictions=gb.predict(xvalidationSub)\n",
    "\n",
    "print('confusion matrix:')\n",
    "print(confusion_matrix(yvalidationSub,predictions))\n",
    "print()\n",
    "print('confusion report')\n",
    "print(classification_report(yvalidationSub,predictions))"
   ]
  },
  {
   "cell_type": "code",
   "execution_count": 23,
   "metadata": {},
   "outputs": [
    {
     "name": "stdout",
     "output_type": "stream",
     "text": [
      "area under roc curve=0.86\n"
     ]
    }
   ],
   "source": [
    "yScoresGB=gb.decision_function(xvalidationSub)\n",
    "fprGB,tprGB,_=roc_curve(yvalidationSub,yScoresGB)\n",
    "rocAUCgb=auc(fprGB,tprGB)\n",
    "print('area under roc curve={:0.2f}'.format(rocAUCgb))"
   ]
  },
  {
   "cell_type": "code",
   "execution_count": null,
   "metadata": {},
   "outputs": [],
   "source": []
  }
 ],
 "metadata": {
  "kernelspec": {
   "display_name": "Python 3.9.13 64-bit",
   "language": "python",
   "name": "python3"
  },
  "language_info": {
   "codemirror_mode": {
    "name": "ipython",
    "version": 3
   },
   "file_extension": ".py",
   "mimetype": "text/x-python",
   "name": "python",
   "nbconvert_exporter": "python",
   "pygments_lexer": "ipython3",
   "version": "3.9.13"
  },
  "orig_nbformat": 4,
  "vscode": {
   "interpreter": {
    "hash": "846e914e0fe5afe1fd6b0658814b815a98ab7eedf4d42652b356388a5420a7f5"
   }
  }
 },
 "nbformat": 4,
 "nbformat_minor": 2
}
