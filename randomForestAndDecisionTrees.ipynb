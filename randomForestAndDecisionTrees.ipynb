{
 "cells": [
  {
   "cell_type": "code",
   "execution_count": 1,
   "metadata": {},
   "outputs": [],
   "source": [
    "import pandas as pd\n",
    "import numpy as np\n",
    "import matplotlib.pyplot as pl\n",
    "import seaborn as sn\n",
    "%matplotlib inline\n",
    "sn.set_style('whitegrid')\n",
    "pl.style.use('fivethirtyeight')"
   ]
  },
  {
   "cell_type": "code",
   "execution_count": 2,
   "metadata": {},
   "outputs": [
    {
     "data": {
      "text/html": [
       "<div>\n",
       "<style scoped>\n",
       "    .dataframe tbody tr th:only-of-type {\n",
       "        vertical-align: middle;\n",
       "    }\n",
       "\n",
       "    .dataframe tbody tr th {\n",
       "        vertical-align: top;\n",
       "    }\n",
       "\n",
       "    .dataframe thead th {\n",
       "        text-align: right;\n",
       "    }\n",
       "</style>\n",
       "<table border=\"1\" class=\"dataframe\">\n",
       "  <thead>\n",
       "    <tr style=\"text-align: right;\">\n",
       "      <th></th>\n",
       "      <th>Age</th>\n",
       "      <th>Attrition</th>\n",
       "      <th>BusinessTravel</th>\n",
       "      <th>DailyRate</th>\n",
       "      <th>Department</th>\n",
       "      <th>DistanceFromHome</th>\n",
       "      <th>Education</th>\n",
       "      <th>EducationField</th>\n",
       "      <th>EmployeeCount</th>\n",
       "      <th>EmployeeNumber</th>\n",
       "      <th>...</th>\n",
       "      <th>RelationshipSatisfaction</th>\n",
       "      <th>StandardHours</th>\n",
       "      <th>StockOptionLevel</th>\n",
       "      <th>TotalWorkingYears</th>\n",
       "      <th>TrainingTimesLastYear</th>\n",
       "      <th>WorkLifeBalance</th>\n",
       "      <th>YearsAtCompany</th>\n",
       "      <th>YearsInCurrentRole</th>\n",
       "      <th>YearsSinceLastPromotion</th>\n",
       "      <th>YearsWithCurrManager</th>\n",
       "    </tr>\n",
       "  </thead>\n",
       "  <tbody>\n",
       "    <tr>\n",
       "      <th>0</th>\n",
       "      <td>41</td>\n",
       "      <td>Yes</td>\n",
       "      <td>Travel_Rarely</td>\n",
       "      <td>1102</td>\n",
       "      <td>Sales</td>\n",
       "      <td>1</td>\n",
       "      <td>2</td>\n",
       "      <td>Life Sciences</td>\n",
       "      <td>1</td>\n",
       "      <td>1</td>\n",
       "      <td>...</td>\n",
       "      <td>1</td>\n",
       "      <td>80</td>\n",
       "      <td>0</td>\n",
       "      <td>8</td>\n",
       "      <td>0</td>\n",
       "      <td>1</td>\n",
       "      <td>6</td>\n",
       "      <td>4</td>\n",
       "      <td>0</td>\n",
       "      <td>5</td>\n",
       "    </tr>\n",
       "    <tr>\n",
       "      <th>1</th>\n",
       "      <td>49</td>\n",
       "      <td>No</td>\n",
       "      <td>Travel_Frequently</td>\n",
       "      <td>279</td>\n",
       "      <td>Research &amp; Development</td>\n",
       "      <td>8</td>\n",
       "      <td>1</td>\n",
       "      <td>Life Sciences</td>\n",
       "      <td>1</td>\n",
       "      <td>2</td>\n",
       "      <td>...</td>\n",
       "      <td>4</td>\n",
       "      <td>80</td>\n",
       "      <td>1</td>\n",
       "      <td>10</td>\n",
       "      <td>3</td>\n",
       "      <td>3</td>\n",
       "      <td>10</td>\n",
       "      <td>7</td>\n",
       "      <td>1</td>\n",
       "      <td>7</td>\n",
       "    </tr>\n",
       "    <tr>\n",
       "      <th>2</th>\n",
       "      <td>37</td>\n",
       "      <td>Yes</td>\n",
       "      <td>Travel_Rarely</td>\n",
       "      <td>1373</td>\n",
       "      <td>Research &amp; Development</td>\n",
       "      <td>2</td>\n",
       "      <td>2</td>\n",
       "      <td>Other</td>\n",
       "      <td>1</td>\n",
       "      <td>4</td>\n",
       "      <td>...</td>\n",
       "      <td>2</td>\n",
       "      <td>80</td>\n",
       "      <td>0</td>\n",
       "      <td>7</td>\n",
       "      <td>3</td>\n",
       "      <td>3</td>\n",
       "      <td>0</td>\n",
       "      <td>0</td>\n",
       "      <td>0</td>\n",
       "      <td>0</td>\n",
       "    </tr>\n",
       "    <tr>\n",
       "      <th>3</th>\n",
       "      <td>33</td>\n",
       "      <td>No</td>\n",
       "      <td>Travel_Frequently</td>\n",
       "      <td>1392</td>\n",
       "      <td>Research &amp; Development</td>\n",
       "      <td>3</td>\n",
       "      <td>4</td>\n",
       "      <td>Life Sciences</td>\n",
       "      <td>1</td>\n",
       "      <td>5</td>\n",
       "      <td>...</td>\n",
       "      <td>3</td>\n",
       "      <td>80</td>\n",
       "      <td>0</td>\n",
       "      <td>8</td>\n",
       "      <td>3</td>\n",
       "      <td>3</td>\n",
       "      <td>8</td>\n",
       "      <td>7</td>\n",
       "      <td>3</td>\n",
       "      <td>0</td>\n",
       "    </tr>\n",
       "    <tr>\n",
       "      <th>4</th>\n",
       "      <td>27</td>\n",
       "      <td>No</td>\n",
       "      <td>Travel_Rarely</td>\n",
       "      <td>591</td>\n",
       "      <td>Research &amp; Development</td>\n",
       "      <td>2</td>\n",
       "      <td>1</td>\n",
       "      <td>Medical</td>\n",
       "      <td>1</td>\n",
       "      <td>7</td>\n",
       "      <td>...</td>\n",
       "      <td>4</td>\n",
       "      <td>80</td>\n",
       "      <td>1</td>\n",
       "      <td>6</td>\n",
       "      <td>3</td>\n",
       "      <td>3</td>\n",
       "      <td>2</td>\n",
       "      <td>2</td>\n",
       "      <td>2</td>\n",
       "      <td>2</td>\n",
       "    </tr>\n",
       "  </tbody>\n",
       "</table>\n",
       "<p>5 rows × 35 columns</p>\n",
       "</div>"
      ],
      "text/plain": [
       "   Age Attrition     BusinessTravel  DailyRate              Department  \\\n",
       "0   41       Yes      Travel_Rarely       1102                   Sales   \n",
       "1   49        No  Travel_Frequently        279  Research & Development   \n",
       "2   37       Yes      Travel_Rarely       1373  Research & Development   \n",
       "3   33        No  Travel_Frequently       1392  Research & Development   \n",
       "4   27        No      Travel_Rarely        591  Research & Development   \n",
       "\n",
       "   DistanceFromHome  Education EducationField  EmployeeCount  EmployeeNumber  \\\n",
       "0                 1          2  Life Sciences              1               1   \n",
       "1                 8          1  Life Sciences              1               2   \n",
       "2                 2          2          Other              1               4   \n",
       "3                 3          4  Life Sciences              1               5   \n",
       "4                 2          1        Medical              1               7   \n",
       "\n",
       "   ...  RelationshipSatisfaction StandardHours  StockOptionLevel  \\\n",
       "0  ...                         1            80                 0   \n",
       "1  ...                         4            80                 1   \n",
       "2  ...                         2            80                 0   \n",
       "3  ...                         3            80                 0   \n",
       "4  ...                         4            80                 1   \n",
       "\n",
       "   TotalWorkingYears  TrainingTimesLastYear WorkLifeBalance  YearsAtCompany  \\\n",
       "0                  8                      0               1               6   \n",
       "1                 10                      3               3              10   \n",
       "2                  7                      3               3               0   \n",
       "3                  8                      3               3               8   \n",
       "4                  6                      3               3               2   \n",
       "\n",
       "  YearsInCurrentRole  YearsSinceLastPromotion  YearsWithCurrManager  \n",
       "0                  4                        0                     5  \n",
       "1                  7                        1                     7  \n",
       "2                  0                        0                     0  \n",
       "3                  7                        3                     0  \n",
       "4                  2                        2                     2  \n",
       "\n",
       "[5 rows x 35 columns]"
      ]
     },
     "execution_count": 2,
     "metadata": {},
     "output_type": "execute_result"
    }
   ],
   "source": [
    "df=pd.read_csv('D:/abhipraja/codes/dataset/WA_Fn-UseC_-HR-Employee-Attrition.csv')\n",
    "df.head()"
   ]
  },
  {
   "cell_type": "code",
   "execution_count": 3,
   "metadata": {},
   "outputs": [
    {
     "data": {
      "text/plain": [
       "<AxesSubplot:xlabel='Attrition', ylabel='count'>"
      ]
     },
     "execution_count": 3,
     "metadata": {},
     "output_type": "execute_result"
    },
    {
     "data": {
      "image/png": "[encoded data removed]",
      "text/plain": [
       "<Figure size 432x288 with 1 Axes>"
      ]
     },
     "metadata": {},
     "output_type": "display_data"
    }
   ],
   "source": [
    "sn.countplot(x='Attrition',data=df)"
   ]
  },
  {
   "cell_type": "code",
   "execution_count": 4,
   "metadata": {},
   "outputs": [],
   "source": [
    "df.drop(['EmployeeCount','EmployeeNumber','Over18','StandardHours'],axis='columns',inplace=True)"
   ]
  },
  {
   "cell_type": "code",
   "execution_count": 5,
   "metadata": {},
   "outputs": [],
   "source": [
    "catergoricalCol=[]\n",
    "for column in df.columns:\n",
    "    if df[column].dtype==object and len(df[column].unique())<=50:\n",
    "        catergoricalCol.append(column)\n",
    "df['Attrition']=df.Attrition.astype('category').cat.codes"
   ]
  },
  {
   "cell_type": "code",
   "execution_count": 6,
   "metadata": {},
   "outputs": [],
   "source": [
    "catergoricalCol.remove('Attrition')"
   ]
  },
  {
   "cell_type": "code",
   "execution_count": 7,
   "metadata": {},
   "outputs": [
    {
     "data": {
      "text/plain": [
       "['BusinessTravel',\n",
       " 'Department',\n",
       " 'EducationField',\n",
       " 'Gender',\n",
       " 'JobRole',\n",
       " 'MaritalStatus',\n",
       " 'OverTime']"
      ]
     },
     "execution_count": 7,
     "metadata": {},
     "output_type": "execute_result"
    }
   ],
   "source": [
    "catergoricalCol"
   ]
  },
  {
   "cell_type": "code",
   "execution_count": 8,
   "metadata": {},
   "outputs": [],
   "source": [
    "from sklearn.preprocessing import LabelEncoder\n",
    "\n",
    "label=LabelEncoder()\n",
    "for column in catergoricalCol:\n",
    "    df[column]=label.fit_transform(df[column])"
   ]
  },
  {
   "cell_type": "code",
   "execution_count": 9,
   "metadata": {},
   "outputs": [],
   "source": [
    "from sklearn.model_selection import train_test_split\n",
    "x=df.drop('Attrition',axis=1)\n",
    "y=df.Attrition\n",
    "xtrain,xtest,ytrain,ytest=train_test_split(x,y,test_size=0.3,random_state=42)"
   ]
  },
  {
   "cell_type": "code",
   "execution_count": 10,
   "metadata": {},
   "outputs": [],
   "source": [
    "from sklearn.metrics import accuracy_score,confusion_matrix,classification_report\n",
    "def printScore(clf,xtrain,ytrain,xtest,ytest,train=True):\n",
    "    if train==True:\n",
    "        pred=clf.predict(xtrain)\n",
    "        clfReport=pd.DataFrame(classification_report(ytrain,pred,output_dict=True))\n",
    "        print(f\"Accuracy Score: {accuracy_score(ytrain, pred) * 100:.2f}%\")\n",
    "        print(f\"CLASSIFICATION REPORT:\\n{clfReport}\")\n",
    "        print(f\"Confusion Matrix: \\n {confusion_matrix(ytrain, pred)}\\n\")\n",
    "    elif train==False:\n",
    "        pred = clf.predict(xtest)\n",
    "        clfReport = pd.DataFrame(classification_report(ytest, pred, output_dict=True))        \n",
    "        print(f\"Accuracy Score: {accuracy_score(ytest, pred) * 100:.2f}%\")\n",
    "        print(f\"CLASSIFICATION REPORT:\\n{clfReport}\")\n",
    "        print(f\"Confusion Matrix: \\n {confusion_matrix(ytest, pred)}\\n\")"
   ]
  },
  {
   "cell_type": "code",
   "execution_count": 11,
   "metadata": {},
   "outputs": [
    {
     "name": "stdout",
     "output_type": "stream",
     "text": [
      "Accuracy Score: 100.00%\n",
      "CLASSIFICATION REPORT:\n",
      "               0      1  accuracy  macro avg  weighted avg\n",
      "precision    1.0    1.0       1.0        1.0           1.0\n",
      "recall       1.0    1.0       1.0        1.0           1.0\n",
      "f1-score     1.0    1.0       1.0        1.0           1.0\n",
      "support    853.0  176.0       1.0     1029.0        1029.0\n",
      "Confusion Matrix: \n",
      " [[853   0]\n",
      " [  0 176]]\n",
      "\n",
      "Accuracy Score: 77.78%\n",
      "CLASSIFICATION REPORT:\n",
      "                    0          1  accuracy   macro avg  weighted avg\n",
      "precision    0.887363   0.259740  0.777778    0.573551      0.800549\n",
      "recall       0.850000   0.327869  0.777778    0.588934      0.777778\n",
      "f1-score     0.868280   0.289855  0.777778    0.579067      0.788271\n",
      "support    380.000000  61.000000  0.777778  441.000000    441.000000\n",
      "Confusion Matrix: \n",
      " [[323  57]\n",
      " [ 41  20]]\n",
      "\n"
     ]
    }
   ],
   "source": [
    "from sklearn.tree import DecisionTreeClassifier\n",
    "treeClf=DecisionTreeClassifier(random_state=42)\n",
    "treeClf.fit(xtrain,ytrain)\n",
    "printScore(treeClf,xtrain,ytrain,xtest,ytest,train=True)\n",
    "printScore(treeClf,xtrain,ytrain,xtest,ytest,train=False)"
   ]
  },
  {
   "cell_type": "code",
   "execution_count": 12,
   "metadata": {},
   "outputs": [
    {
     "name": "stdout",
     "output_type": "stream",
     "text": [
      "Fitting 3 folds for each of 4332 candidates, totalling 12996 fits\n",
      "best paramters: {'criterion': 'entropy', 'max_depth': 6, 'min_samples_leaf': 10, 'min_samples_split': 2, 'splitter': 'best'}\n",
      "Accuracy Score: 88.82%\n",
      "CLASSIFICATION REPORT:\n",
      "                    0           1  accuracy    macro avg  weighted avg\n",
      "precision    0.906388    0.752066  0.888241     0.829227      0.879993\n",
      "recall       0.964830    0.517045  0.888241     0.740938      0.888241\n",
      "f1-score     0.934696    0.612795  0.888241     0.773745      0.879638\n",
      "support    853.000000  176.000000  0.888241  1029.000000   1029.000000\n",
      "Confusion Matrix: \n",
      " [[823  30]\n",
      " [ 85  91]]\n",
      "\n",
      "Accuracy Score: 84.35%\n",
      "CLASSIFICATION REPORT:\n",
      "                    0          1  accuracy   macro avg  weighted avg\n",
      "precision    0.887781   0.400000  0.843537    0.643890      0.820310\n",
      "recall       0.936842   0.262295  0.843537    0.599569      0.843537\n",
      "f1-score     0.911652   0.316832  0.843537    0.614242      0.829375\n",
      "support    380.000000  61.000000  0.843537  441.000000    441.000000\n",
      "Confusion Matrix: \n",
      " [[356  24]\n",
      " [ 45  16]]\n",
      "\n"
     ]
    }
   ],
   "source": [
    "from sklearn.tree import DecisionTreeClassifier\n",
    "from sklearn.model_selection import GridSearchCV\n",
    "params={\n",
    "    'criterion':('gini','entropy'),\n",
    "    'splitter':('best','random'),\n",
    "    'max_depth':(list(range(1,20))),\n",
    "    \"min_samples_split\":[2, 3, 4], \n",
    "    'min_samples_leaf':list(range(1,20)),\n",
    "}\n",
    "\n",
    "treeClf=DecisionTreeClassifier(random_state=42)\n",
    "treeCV=GridSearchCV(treeClf,params,scoring='accuracy',n_jobs=-1,verbose=1,cv=3)\n",
    "treeCV.fit(xtrain,ytrain)\n",
    "bestParams=treeCV.best_params_\n",
    "print(f'best paramters: {bestParams}')\n",
    "\n",
    "treeClf=DecisionTreeClassifier(**bestParams)\n",
    "treeClf.fit(xtrain,ytrain)\n",
    "printScore(treeClf,xtrain,ytrain,xtest,ytest,train=True)\n",
    "printScore(treeClf,xtrain,ytrain,xtest,ytest,train=False)"
   ]
  },
  {
   "cell_type": "code",
   "execution_count": null,
   "metadata": {},
   "outputs": [
    {
     "name": "stdout",
     "output_type": "stream",
     "text": [
      "Accuracy Score: 100.00%\n",
      "CLASSIFICATION REPORT:\n",
      "               0      1  accuracy  macro avg  weighted avg\n",
      "precision    1.0    1.0       1.0        1.0           1.0\n",
      "recall       1.0    1.0       1.0        1.0           1.0\n",
      "f1-score     1.0    1.0       1.0        1.0           1.0\n",
      "support    853.0  176.0       1.0     1029.0        1029.0\n",
      "Confusion Matrix: \n",
      " [[853   0]\n",
      " [  0 176]]\n",
      "\n",
      "Accuracy Score: 86.39%\n",
      "CLASSIFICATION REPORT:\n",
      "                    0          1  accuracy   macro avg  weighted avg\n",
      "precision    0.872093   0.545455  0.863946    0.708774      0.826912\n",
      "recall       0.986842   0.098361  0.863946    0.542601      0.863946\n",
      "f1-score     0.925926   0.166667  0.863946    0.546296      0.820904\n",
      "support    380.000000  61.000000  0.863946  441.000000    441.000000\n",
      "Confusion Matrix: \n",
      " [[375   5]\n",
      " [ 55   6]]\n",
      "\n"
     ]
    }
   ],
   "source": [
    "from sklearn.ensemble import RandomForestClassifier\n",
    "rfClf=RandomForestClassifier(n_estimators=100)\n",
    "rfClf.fit(xtrain,ytrain)\n",
    "\n",
    "printScore(rfClf,xtrain,ytrain,xtest,ytest,train=True)\n",
    "printScore(rfClf,xtrain,ytrain,xtest,ytest,train=False)"
   ]
  },
  {
   "cell_type": "code",
   "execution_count": null,
   "metadata": {},
   "outputs": [
    {
     "name": "stdout",
     "output_type": "stream",
     "text": [
      "Fitting 3 folds for each of 100 candidates, totalling 300 fits\n"
     ]
    },
    {
     "name": "stderr",
     "output_type": "stream",
     "text": [
      "c:\\Users\\abhip\\AppData\\Local\\Programs\\Python\\Python39\\lib\\site-packages\\sklearn\\ensemble\\_forest.py:427: FutureWarning: `max_features='auto'` has been deprecated in 1.1 and will be removed in 1.3. To keep the past behaviour, explicitly set `max_features='sqrt'` or remove this parameter as it is also the default value for RandomForestClassifiers and ExtraTreesClassifiers.\n",
      "  warn(\n"
     ]
    },
    {
     "name": "stdout",
     "output_type": "stream",
     "text": [
      "best parameters:{'n_estimators': 400, 'min_samples_split': 5, 'min_samples_leaf': 1, 'max_features': 'auto', 'max_depth': 90, 'bootstrap': False}\n"
     ]
    },
    {
     "name": "stderr",
     "output_type": "stream",
     "text": [
      "c:\\Users\\abhip\\AppData\\Local\\Programs\\Python\\Python39\\lib\\site-packages\\sklearn\\ensemble\\_forest.py:427: FutureWarning: `max_features='auto'` has been deprecated in 1.1 and will be removed in 1.3. To keep the past behaviour, explicitly set `max_features='sqrt'` or remove this parameter as it is also the default value for RandomForestClassifiers and ExtraTreesClassifiers.\n",
      "  warn(\n"
     ]
    },
    {
     "name": "stdout",
     "output_type": "stream",
     "text": [
      "Accuracy Score: 100.00%\n",
      "CLASSIFICATION REPORT:\n",
      "               0      1  accuracy  macro avg  weighted avg\n",
      "precision    1.0    1.0       1.0        1.0           1.0\n",
      "recall       1.0    1.0       1.0        1.0           1.0\n",
      "f1-score     1.0    1.0       1.0        1.0           1.0\n",
      "support    853.0  176.0       1.0     1029.0        1029.0\n",
      "Confusion Matrix: \n",
      " [[853   0]\n",
      " [  0 176]]\n",
      "\n",
      "Accuracy Score: 85.94%\n",
      "CLASSIFICATION REPORT:\n",
      "                    0          1  accuracy   macro avg  weighted avg\n",
      "precision    0.869767   0.454545   0.85941    0.662156      0.812333\n",
      "recall       0.984211   0.081967   0.85941    0.533089      0.859410\n",
      "f1-score     0.923457   0.138889   0.85941    0.531173      0.814934\n",
      "support    380.000000  61.000000   0.85941  441.000000    441.000000\n",
      "Confusion Matrix: \n",
      " [[374   6]\n",
      " [ 56   5]]\n",
      "\n"
     ]
    }
   ],
   "source": [
    "from sklearn.ensemble import RandomForestClassifier\n",
    "from sklearn.model_selection import RandomizedSearchCV\n",
    "\n",
    "n_estimators=[int(x) for x in np.linspace(start=200,stop=2000,num=10)]\n",
    "max_features=['auto','sqrt']\n",
    "max_depth=[int(x) for x in np.linspace(10,110,num=11)]\n",
    "max_depth.append(None)\n",
    "min_samples_split=[2,5,10]\n",
    "min_samples_leaf=[1,2,4]\n",
    "bootstrap=[True,False]\n",
    "\n",
    "random_grid={'n_estimators':n_estimators,\n",
    "'max_features':max_features,\n",
    "'max_depth':max_depth,\n",
    "'min_samples_split':min_samples_split,\n",
    "'min_samples_leaf':min_samples_leaf,\n",
    "'bootstrap':bootstrap\n",
    "}\n",
    "\n",
    "rfClf=RandomForestClassifier(random_state=42)\n",
    "rfCv=RandomizedSearchCV(estimator=rfClf,scoring='f1',param_distributions=random_grid,n_iter=100,cv=3,verbose=2,random_state=42,n_jobs=-1)\n",
    "rfCv.fit(xtrain,ytrain)\n",
    "rfBestParams=rfCv.best_params_\n",
    "print(f'best parameters:{rfBestParams}')\n",
    "rfClf=RandomForestClassifier(**rfBestParams)\n",
    "rfClf.fit(xtrain,ytrain)\n",
    "printScore(rfClf,xtrain,ytrain,xtest,ytest,train=True)\n",
    "printScore(rfClf,xtrain,ytrain,xtest,ytest,train=False)"
   ]
  },
  {
   "cell_type": "code",
   "execution_count": 17,
   "metadata": {},
   "outputs": [
    {
     "name": "stdout",
     "output_type": "stream",
     "text": [
      "Fitting 3 folds for each of 768 candidates, totalling 2304 fits\n"
     ]
    },
    {
     "name": "stderr",
     "output_type": "stream",
     "text": [
      "c:\\Users\\abhip\\AppData\\Local\\Programs\\Python\\Python39\\lib\\site-packages\\sklearn\\ensemble\\_forest.py:427: FutureWarning: `max_features='auto'` has been deprecated in 1.1 and will be removed in 1.3. To keep the past behaviour, explicitly set `max_features='sqrt'` or remove this parameter as it is also the default value for RandomForestClassifiers and ExtraTreesClassifiers.\n",
      "  warn(\n"
     ]
    },
    {
     "name": "stdout",
     "output_type": "stream",
     "text": [
      "best parameters: {'bootstrap': False, 'max_depth': None, 'max_features': 'auto', 'min_samples_leaf': 1, 'min_samples_split': 2, 'n_estimators': 1500}\n"
     ]
    },
    {
     "name": "stderr",
     "output_type": "stream",
     "text": [
      "c:\\Users\\abhip\\AppData\\Local\\Programs\\Python\\Python39\\lib\\site-packages\\sklearn\\ensemble\\_forest.py:427: FutureWarning: `max_features='auto'` has been deprecated in 1.1 and will be removed in 1.3. To keep the past behaviour, explicitly set `max_features='sqrt'` or remove this parameter as it is also the default value for RandomForestClassifiers and ExtraTreesClassifiers.\n",
      "  warn(\n"
     ]
    },
    {
     "name": "stdout",
     "output_type": "stream",
     "text": [
      "Accuracy Score: 100.00%\n",
      "CLASSIFICATION REPORT:\n",
      "               0      1  accuracy  macro avg  weighted avg\n",
      "precision    1.0    1.0       1.0        1.0           1.0\n",
      "recall       1.0    1.0       1.0        1.0           1.0\n",
      "f1-score     1.0    1.0       1.0        1.0           1.0\n",
      "support    853.0  176.0       1.0     1029.0        1029.0\n",
      "Confusion Matrix: \n",
      " [[853   0]\n",
      " [  0 176]]\n",
      "\n",
      "Accuracy Score: 86.17%\n",
      "CLASSIFICATION REPORT:\n",
      "                    0          1  accuracy   macro avg  weighted avg\n",
      "precision    0.871795   0.500000  0.861678    0.685897      0.820367\n",
      "recall       0.984211   0.098361  0.861678    0.541286      0.861678\n",
      "f1-score     0.924598   0.164384  0.861678    0.544491      0.819444\n",
      "support    380.000000  61.000000  0.861678  441.000000    441.000000\n",
      "Confusion Matrix: \n",
      " [[374   6]\n",
      " [ 55   6]]\n",
      "\n"
     ]
    }
   ],
   "source": [
    "from sklearn.ensemble import RandomForestClassifier\n",
    "\n",
    "n_estimators=[100,500,1000,1500]\n",
    "max_features=['auto','sqrt']\n",
    "max_depth=[2,3,5]\n",
    "max_depth.append(None)\n",
    "min_samples_split=[2,5,10]\n",
    "min_samples_leaf=[1,2,4,10]\n",
    "bootstrap=[True,False]\n",
    "\n",
    "paramsGrid={\n",
    "'n_estimators': n_estimators,\n",
    "'max_features': max_features,\n",
    "'max_depth': max_depth,\n",
    "'min_samples_split': min_samples_split,\n",
    "'min_samples_leaf': min_samples_leaf,\n",
    "'bootstrap': bootstrap\n",
    "}\n",
    "\n",
    "rfClf=RandomForestClassifier(random_state=42)\n",
    "rfCv=GridSearchCV(rfClf,paramsGrid,scoring='f1',cv=3,verbose=2,n_jobs=-1)\n",
    "\n",
    "rfCv.fit(xtrain,ytrain)\n",
    "bestParams=rfCv.best_params_\n",
    "print(f'best parameters: {bestParams}')\n",
    "\n",
    "rfClf=RandomForestClassifier(**bestParams)\n",
    "rfClf.fit(xtrain,ytrain)\n",
    "\n",
    "printScore(rfClf,xtrain,ytrain,xtest,ytest,train=True)\n",
    "printScore(rfClf,xtrain,ytrain,xtest,ytest,train=False)"
   ]
  }
 ],
 "metadata": {
  "kernelspec": {
   "display_name": "Python 3.9.13 64-bit",
   "language": "python",
   "name": "python3"
  },
  "language_info": {
   "codemirror_mode": {
    "name": "ipython",
    "version": 3
   },
   "file_extension": ".py",
   "mimetype": "text/x-python",
   "name": "python",
   "nbconvert_exporter": "python",
   "pygments_lexer": "ipython3",
   "version": "3.9.13"
  },
  "orig_nbformat": 4,
  "vscode": {
   "interpreter": {
    "hash": "846e914e0fe5afe1fd6b0658814b815a98ab7eedf4d42652b356388a5420a7f5"
   }
  }
 },
 "nbformat": 4,
 "nbformat_minor": 2
}
